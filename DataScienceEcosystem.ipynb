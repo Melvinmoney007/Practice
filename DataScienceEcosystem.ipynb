{
  "nbformat": 4,
  "nbformat_minor": 0,
  "metadata": {
    "colab": {
      "provenance": []
    },
    "kernelspec": {
      "name": "python3",
      "display_name": "Python 3"
    },
    "language_info": {
      "name": "python"
    }
  },
  "cells": [
    {
      "cell_type": "markdown",
      "source": [
        "# H1: DataScienceEcosystem"
      ],
      "metadata": {
        "id": "ZiVZgT8tPCVY"
      }
    },
    {
      "cell_type": "markdown",
      "source": [
        "In this notebook, Data Science Tools and Ecosystem are summarized."
      ],
      "metadata": {
        "id": "GZovRzK-Q5dM"
      }
    },
    {
      "cell_type": "markdown",
      "source": [
        "**Objectives:**\n",
        "\n",
        "\n",
        "*   List popular languages for Data Science\n",
        "*   List common libraries for Data Science\n",
        "\n",
        "\n",
        "*   Create a new Jupyter notebook\n",
        "\n",
        "\n",
        "\n",
        "\n"
      ],
      "metadata": {
        "id": "thBwlAxoar_x"
      }
    },
    {
      "cell_type": "markdown",
      "source": [
        "Some of the popular languages that Data Scientists use are:\n",
        "\n",
        "\n",
        "1.   Python\n",
        "2.   R\n",
        "3.   Julia\n",
        "4.   Scala\n",
        "\n"
      ],
      "metadata": {
        "id": "xJ2fHbagR39t"
      }
    },
    {
      "cell_type": "markdown",
      "source": [
        "Some of the commonly used libraries used by Data Scientists include:\n",
        "\n",
        "\n",
        "1.   Pandas\n",
        "2.   NumPy\n",
        "3.   Matplotlib\n",
        "\n",
        "\n",
        "\n"
      ],
      "metadata": {
        "id": "uZ-AA1MgTRVP"
      }
    },
    {
      "cell_type": "markdown",
      "source": [
        "| Data Science Tools |\n",
        "|--------------------|\n",
        "| RStudio|\n",
        "| Jupyter Notebook|\n",
        "| Apache Zeppelin|"
      ],
      "metadata": {
        "id": "w-kM9sR4UlPM"
      }
    },
    {
      "cell_type": "markdown",
      "source": [
        "### H3: Below are a few examples of evaluating arithmetic expressions in Python"
      ],
      "metadata": {
        "id": "Fv8CPxVHV9Mp"
      }
    },
    {
      "cell_type": "code",
      "source": [
        "#This a simple arithmetic expression to mutiply then add integers\n",
        "\n",
        "(3*4)+5"
      ],
      "metadata": {
        "colab": {
          "base_uri": "https://localhost:8080/"
        },
        "id": "3de1JzQpWyVy",
        "outputId": "5b36ac0b-e5b5-4f9e-f8aa-f95b9b2862f1"
      },
      "execution_count": 1,
      "outputs": [
        {
          "output_type": "execute_result",
          "data": {
            "text/plain": [
              "17"
            ]
          },
          "metadata": {},
          "execution_count": 1
        }
      ]
    },
    {
      "cell_type": "code",
      "source": [
        "#This will convert 200 minutes to hours by diving by 60\n",
        "x=200\n",
        "y=60\n",
        "result=  x/y\n",
        "print (\"The conversation is\", result, \"hours\")"
      ],
      "metadata": {
        "colab": {
          "base_uri": "https://localhost:8080/"
        },
        "id": "45IS0hIwXWw-",
        "outputId": "b3805280-d96c-47fe-faab-b44613a9ab14"
      },
      "execution_count": 9,
      "outputs": [
        {
          "output_type": "stream",
          "name": "stdout",
          "text": [
            "The conversation is 3.3333333333333335 hours\n"
          ]
        }
      ]
    },
    {
      "cell_type": "markdown",
      "source": [
        "## H2: Author\n",
        "Melvin Chidiebube Onuorah"
      ],
      "metadata": {
        "id": "E3XVMkHHenP6"
      }
    }
  ]
}